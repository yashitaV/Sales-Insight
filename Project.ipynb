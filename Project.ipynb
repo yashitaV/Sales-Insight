{
 "cells": [
  {
   "cell_type": "markdown",
   "id": "f968a0c0",
   "metadata": {},
   "source": [
    "# SALES INSIGHTS 💡"
   ]
  },
  {
   "cell_type": "markdown",
   "id": "09f067e6",
   "metadata": {},
   "source": [
    "### By: Yashita Vajpayee"
   ]
  },
  {
   "cell_type": "markdown",
   "id": "d77b6afe",
   "metadata": {},
   "source": [
    "## Abstract: \n",
    "\n",
    "This projects aims to explore the transaction dataset of a computer hardware company to get insights on their sales by exploring factors like market, customers, product sales, sale amount etc.\n"
   ]
  },
  {
   "cell_type": "markdown",
   "id": "83acf1f4",
   "metadata": {},
   "source": [
    "## Ch. 1- Introduction:\n",
    "\n",
    "AtliQ Hardware is a leading Indian-based hardware company that delivers computer hardware and peripherals to its clients across India. Despite having several branches throughout the country, the company has been facing a significant decline in sales, which has become a major concern for the sales director. As the company's performance continues to decline, the sales director is struggling to identify the underlying issues contributing to this trend.\n",
    "\n",
    "In this project, we aimed to analyze the sales data of AtliQ Hardware and provide insights that could help the sales director better understand the business's performance. Specifically, we focused on identifying the factors that may be contributing to the declining sales and providing recommendations for addressing these issues. We performed exploratory data analysis, created visualizations, and performed various statistical analyses, including comparing two samples, ANOVA, Categorical data analysis and hypothesis testing, to achieve our objectives. We further did prediction analysis using Linear regression and polynomial regression.\n",
    "\n"
   ]
  },
  {
   "cell_type": "code",
   "execution_count": 1,
   "id": "7663c6a7",
   "metadata": {},
   "outputs": [],
   "source": [
    "import pandas as pd\n",
    "import matplotlib.pyplot as plt\n",
    "import seaborn as sns\n",
    "import warnings\n",
    "warnings.filterwarnings('ignore')\n",
    "from scipy.stats import shapiro\n",
    "import scipy.stats as stats\n",
    "from sklearn.linear_model import LinearRegression\n",
    "from sklearn.model_selection import train_test_split\n",
    "from sklearn.metrics import mean_squared_error\n",
    "from sklearn.preprocessing import LabelEncoder"
   ]
  },
  {
   "cell_type": "markdown",
   "id": "394faf9f",
   "metadata": {},
   "source": [
    "## Ch. 2 -  Data Description\n",
    "\n",
    "The dataset contains following columns:\n",
    "- `product_code`: This is the code given to each product which is sold by the company\n",
    "- `customer_code`: Every customer has been a given a code for better analysis\t\n",
    "- `market_code`: Code given to each city/branch where products are supplied\n",
    "- `order_date`: Date of ordering\t\n",
    "- `sales_qty`: Quantity ordered\n",
    "- `sales_amount`: This is selling amount of the product sold\n",
    "- `currency` : There items sold in either INR and USD\n",
    "- `cost_price` : This is the cost price of the product \n"
   ]
  },
  {
   "cell_type": "code",
   "execution_count": 2,
   "id": "4e5a5e1a",
   "metadata": {},
   "outputs": [],
   "source": [
    "data = pd.read_csv(\"transaction.csv\")"
   ]
  },
  {
   "cell_type": "code",
   "execution_count": 3,
   "id": "56dcf47a",
   "metadata": {},
   "outputs": [
    {
     "data": {
      "text/html": [
       "<div>\n",
       "<style scoped>\n",
       "    .dataframe tbody tr th:only-of-type {\n",
       "        vertical-align: middle;\n",
       "    }\n",
       "\n",
       "    .dataframe tbody tr th {\n",
       "        vertical-align: top;\n",
       "    }\n",
       "\n",
       "    .dataframe thead th {\n",
       "        text-align: right;\n",
       "    }\n",
       "</style>\n",
       "<table border=\"1\" class=\"dataframe\">\n",
       "  <thead>\n",
       "    <tr style=\"text-align: right;\">\n",
       "      <th></th>\n",
       "      <th>product_code</th>\n",
       "      <th>customer_code</th>\n",
       "      <th>market_code</th>\n",
       "      <th>order_date</th>\n",
       "      <th>sales_qty</th>\n",
       "      <th>sales_amount</th>\n",
       "      <th>currency</th>\n",
       "      <th>cost_price</th>\n",
       "    </tr>\n",
       "  </thead>\n",
       "  <tbody>\n",
       "    <tr>\n",
       "      <th>0</th>\n",
       "      <td>Prod279</td>\n",
       "      <td>Cus020</td>\n",
       "      <td>Mark011</td>\n",
       "      <td>2017-10-11</td>\n",
       "      <td>1</td>\n",
       "      <td>102.0</td>\n",
       "      <td>INR</td>\n",
       "      <td>62.22</td>\n",
       "    </tr>\n",
       "    <tr>\n",
       "      <th>1</th>\n",
       "      <td>Prod279</td>\n",
       "      <td>Cus020</td>\n",
       "      <td>Mark011</td>\n",
       "      <td>2017-10-18</td>\n",
       "      <td>1</td>\n",
       "      <td>102.0</td>\n",
       "      <td>INR</td>\n",
       "      <td>114.24</td>\n",
       "    </tr>\n",
       "    <tr>\n",
       "      <th>2</th>\n",
       "      <td>Prod279</td>\n",
       "      <td>Cus020</td>\n",
       "      <td>Mark011</td>\n",
       "      <td>2017-10-19</td>\n",
       "      <td>1</td>\n",
       "      <td>102.0</td>\n",
       "      <td>INR</td>\n",
       "      <td>72.42</td>\n",
       "    </tr>\n",
       "    <tr>\n",
       "      <th>3</th>\n",
       "      <td>Prod279</td>\n",
       "      <td>Cus020</td>\n",
       "      <td>Mark011</td>\n",
       "      <td>2017-11-08</td>\n",
       "      <td>1</td>\n",
       "      <td>102.0</td>\n",
       "      <td>INR</td>\n",
       "      <td>65.28</td>\n",
       "    </tr>\n",
       "    <tr>\n",
       "      <th>4</th>\n",
       "      <td>Prod279</td>\n",
       "      <td>Cus020</td>\n",
       "      <td>Mark011</td>\n",
       "      <td>2018-03-09</td>\n",
       "      <td>1</td>\n",
       "      <td>102.0</td>\n",
       "      <td>INR</td>\n",
       "      <td>137.70</td>\n",
       "    </tr>\n",
       "  </tbody>\n",
       "</table>\n",
       "</div>"
      ],
      "text/plain": [
       "  product_code customer_code market_code  order_date  sales_qty  sales_amount  \\\n",
       "0      Prod279        Cus020     Mark011  2017-10-11          1         102.0   \n",
       "1      Prod279        Cus020     Mark011  2017-10-18          1         102.0   \n",
       "2      Prod279        Cus020     Mark011  2017-10-19          1         102.0   \n",
       "3      Prod279        Cus020     Mark011  2017-11-08          1         102.0   \n",
       "4      Prod279        Cus020     Mark011  2018-03-09          1         102.0   \n",
       "\n",
       "  currency  cost_price  \n",
       "0      INR       62.22  \n",
       "1      INR      114.24  \n",
       "2      INR       72.42  \n",
       "3      INR       65.28  \n",
       "4      INR      137.70  "
      ]
     },
     "execution_count": 3,
     "metadata": {},
     "output_type": "execute_result"
    }
   ],
   "source": [
    "data.head()"
   ]
  },
  {
   "cell_type": "code",
   "execution_count": 4,
   "id": "8ae0f472",
   "metadata": {},
   "outputs": [
    {
     "name": "stdout",
     "output_type": "stream",
     "text": [
      "<class 'pandas.core.frame.DataFrame'>\n",
      "RangeIndex: 148395 entries, 0 to 148394\n",
      "Data columns (total 8 columns):\n",
      " #   Column         Non-Null Count   Dtype  \n",
      "---  ------         --------------   -----  \n",
      " 0   product_code   148395 non-null  object \n",
      " 1   customer_code  148395 non-null  object \n",
      " 2   market_code    148395 non-null  object \n",
      " 3   order_date     148395 non-null  object \n",
      " 4   sales_qty      148395 non-null  int64  \n",
      " 5   sales_amount   148395 non-null  float64\n",
      " 6   currency       148395 non-null  object \n",
      " 7   cost_price     148395 non-null  float64\n",
      "dtypes: float64(2), int64(1), object(5)\n",
      "memory usage: 9.1+ MB\n"
     ]
    }
   ],
   "source": [
    "data.info()"
   ]
  },
  {
   "cell_type": "code",
   "execution_count": 5,
   "id": "8eb05209",
   "metadata": {},
   "outputs": [
    {
     "data": {
      "text/html": [
       "<div>\n",
       "<style scoped>\n",
       "    .dataframe tbody tr th:only-of-type {\n",
       "        vertical-align: middle;\n",
       "    }\n",
       "\n",
       "    .dataframe tbody tr th {\n",
       "        vertical-align: top;\n",
       "    }\n",
       "\n",
       "    .dataframe thead th {\n",
       "        text-align: right;\n",
       "    }\n",
       "</style>\n",
       "<table border=\"1\" class=\"dataframe\">\n",
       "  <thead>\n",
       "    <tr style=\"text-align: right;\">\n",
       "      <th></th>\n",
       "      <th>sales_qty</th>\n",
       "      <th>sales_amount</th>\n",
       "      <th>cost_price</th>\n",
       "    </tr>\n",
       "  </thead>\n",
       "  <tbody>\n",
       "    <tr>\n",
       "      <th>count</th>\n",
       "      <td>148395.000000</td>\n",
       "      <td>1.483950e+05</td>\n",
       "      <td>1.483950e+05</td>\n",
       "    </tr>\n",
       "    <tr>\n",
       "      <th>mean</th>\n",
       "      <td>16.370376</td>\n",
       "      <td>6.636433e+03</td>\n",
       "      <td>6.470649e+03</td>\n",
       "    </tr>\n",
       "    <tr>\n",
       "      <th>std</th>\n",
       "      <td>115.394269</td>\n",
       "      <td>3.008649e+04</td>\n",
       "      <td>2.977992e+04</td>\n",
       "    </tr>\n",
       "    <tr>\n",
       "      <th>min</th>\n",
       "      <td>1.000000</td>\n",
       "      <td>5.000000e+00</td>\n",
       "      <td>3.050000e+00</td>\n",
       "    </tr>\n",
       "    <tr>\n",
       "      <th>25%</th>\n",
       "      <td>1.000000</td>\n",
       "      <td>1.760000e+02</td>\n",
       "      <td>1.665000e+02</td>\n",
       "    </tr>\n",
       "    <tr>\n",
       "      <th>50%</th>\n",
       "      <td>1.000000</td>\n",
       "      <td>5.190000e+02</td>\n",
       "      <td>5.082600e+02</td>\n",
       "    </tr>\n",
       "    <tr>\n",
       "      <th>75%</th>\n",
       "      <td>7.000000</td>\n",
       "      <td>3.065000e+03</td>\n",
       "      <td>2.907130e+03</td>\n",
       "    </tr>\n",
       "    <tr>\n",
       "      <th>max</th>\n",
       "      <td>14049.000000</td>\n",
       "      <td>1.510944e+06</td>\n",
       "      <td>1.846742e+06</td>\n",
       "    </tr>\n",
       "  </tbody>\n",
       "</table>\n",
       "</div>"
      ],
      "text/plain": [
       "           sales_qty  sales_amount    cost_price\n",
       "count  148395.000000  1.483950e+05  1.483950e+05\n",
       "mean       16.370376  6.636433e+03  6.470649e+03\n",
       "std       115.394269  3.008649e+04  2.977992e+04\n",
       "min         1.000000  5.000000e+00  3.050000e+00\n",
       "25%         1.000000  1.760000e+02  1.665000e+02\n",
       "50%         1.000000  5.190000e+02  5.082600e+02\n",
       "75%         7.000000  3.065000e+03  2.907130e+03\n",
       "max     14049.000000  1.510944e+06  1.846742e+06"
      ]
     },
     "execution_count": 5,
     "metadata": {},
     "output_type": "execute_result"
    }
   ],
   "source": [
    "data.describe()"
   ]
  },
  {
   "cell_type": "markdown",
   "id": "da575c85",
   "metadata": {},
   "source": [
    "### Data manipulation:\n",
    "\n",
    "The dataset provides a good information about the sales data of the company, but for better analysis, following alterations have been done in the dataset:\n",
    "\n",
    "* **Currency manipulation and Price Normalization :** The currencies are available in `INR` and `USD` format. For consistency, I converted all the `INR` enteries into `USD` by normalizing the `sales_amount` and `cost_price`\n",
    "<br>\n",
    "\n",
    "* **`profit` and `profit_percentage` :**  As we are talking about sales, it is important to look at the profit margin and profit percentage for each transaction by the company. Therefore by using `sales_amount` and `cost_price` in each row, I calculated the profits.\n",
    "<br>\n",
    "* **Dates manipulation :** The date is given in the \"yyyy-mm-dd\" format. For analyzing the yearly trends in the sales, I added a column as `year`\n",
    "<br>\n",
    "* **For categorical analysis :** There is no column explicitely having categories in the dataset. Therefore, I added a column as ` sales_qty_interval` which categorizes the sales quantity into - `Low`,`Medium` and`High`\n",
    "<br>\n",
    "* **Label encoding :** For performing predictive analysis using regression, it was needed to convert  object datatypes to int or float datatypes. Therefore I used label encoding for `product_code`, `customer_code` and `market_code`\tcolumns"
   ]
  },
  {
   "cell_type": "markdown",
   "id": "0c16703b",
   "metadata": {},
   "source": [
    "##### 1.Currency manipulation and Price Normalization"
   ]
  },
  {
   "cell_type": "code",
   "execution_count": 6,
   "id": "7a3c5861",
   "metadata": {},
   "outputs": [
    {
     "name": "stdout",
     "output_type": "stream",
     "text": [
      "Rows with currency other than INR:\n",
      "       product_code customer_code market_code  order_date  sales_qty  \\\n",
      "135937      Prod003        Cus005     Mark004  2017-11-20         59   \n",
      "135938      Prod003        Cus005     Mark004  2017-11-22         36   \n",
      "\n",
      "        sales_amount currency  cost_price  \n",
      "135937         500.0      USD     25875.0  \n",
      "135938         250.0      USD     15562.5  \n"
     ]
    }
   ],
   "source": [
    "# Find the rows with currency other than INR\n",
    "other_currency = data[~(data['currency'].isin(['INR']))]\n",
    "\n",
    "# Print the rows with currency other than INR\n",
    "if len(other_currency) > 0:\n",
    "    print(\"Rows with currency other than INR:\")\n",
    "    print(other_currency)\n",
    "else:\n",
    "    print(\"No currency other than INR found.\")"
   ]
  },
  {
   "cell_type": "code",
   "execution_count": 7,
   "id": "06904b72",
   "metadata": {},
   "outputs": [
    {
     "data": {
      "text/html": [
       "<div>\n",
       "<style scoped>\n",
       "    .dataframe tbody tr th:only-of-type {\n",
       "        vertical-align: middle;\n",
       "    }\n",
       "\n",
       "    .dataframe tbody tr th {\n",
       "        vertical-align: top;\n",
       "    }\n",
       "\n",
       "    .dataframe thead th {\n",
       "        text-align: right;\n",
       "    }\n",
       "</style>\n",
       "<table border=\"1\" class=\"dataframe\">\n",
       "  <thead>\n",
       "    <tr style=\"text-align: right;\">\n",
       "      <th></th>\n",
       "      <th>product_code</th>\n",
       "      <th>customer_code</th>\n",
       "      <th>market_code</th>\n",
       "      <th>order_date</th>\n",
       "      <th>sales_qty</th>\n",
       "      <th>sales_amount</th>\n",
       "      <th>cost_price</th>\n",
       "    </tr>\n",
       "  </thead>\n",
       "  <tbody>\n",
       "    <tr>\n",
       "      <th>0</th>\n",
       "      <td>Prod279</td>\n",
       "      <td>Cus020</td>\n",
       "      <td>Mark011</td>\n",
       "      <td>2017-10-11</td>\n",
       "      <td>1</td>\n",
       "      <td>1.275</td>\n",
       "      <td>0.77775</td>\n",
       "    </tr>\n",
       "    <tr>\n",
       "      <th>1</th>\n",
       "      <td>Prod279</td>\n",
       "      <td>Cus020</td>\n",
       "      <td>Mark011</td>\n",
       "      <td>2017-10-18</td>\n",
       "      <td>1</td>\n",
       "      <td>1.275</td>\n",
       "      <td>1.42800</td>\n",
       "    </tr>\n",
       "    <tr>\n",
       "      <th>2</th>\n",
       "      <td>Prod279</td>\n",
       "      <td>Cus020</td>\n",
       "      <td>Mark011</td>\n",
       "      <td>2017-10-19</td>\n",
       "      <td>1</td>\n",
       "      <td>1.275</td>\n",
       "      <td>0.90525</td>\n",
       "    </tr>\n",
       "  </tbody>\n",
       "</table>\n",
       "</div>"
      ],
      "text/plain": [
       "  product_code customer_code market_code  order_date  sales_qty  sales_amount  \\\n",
       "0      Prod279        Cus020     Mark011  2017-10-11          1         1.275   \n",
       "1      Prod279        Cus020     Mark011  2017-10-18          1         1.275   \n",
       "2      Prod279        Cus020     Mark011  2017-10-19          1         1.275   \n",
       "\n",
       "   cost_price  \n",
       "0     0.77775  \n",
       "1     1.42800  \n",
       "2     0.90525  "
      ]
     },
     "execution_count": 7,
     "metadata": {},
     "output_type": "execute_result"
    }
   ],
   "source": [
    "## using 1 USD = 80 INR\n",
    "data['sales_amount'] = data['sales_amount'] / 80   \n",
    "data['cost_price'] = data['cost_price'] / 80\n",
    "data = data.drop('currency', axis=1)\n",
    "data.head(3)"
   ]
  },
  {
   "cell_type": "markdown",
   "id": "5979b592",
   "metadata": {},
   "source": [
    "##### 2. Profit margin and Profit percentage\n",
    "\n",
    "- Creating new columns `profit` and `profit_percentage` using `sales_amount` and `cost_price`"
   ]
  },
  {
   "cell_type": "code",
   "execution_count": 8,
   "id": "1e7286bf",
   "metadata": {},
   "outputs": [
    {
     "data": {
      "text/html": [
       "<div>\n",
       "<style scoped>\n",
       "    .dataframe tbody tr th:only-of-type {\n",
       "        vertical-align: middle;\n",
       "    }\n",
       "\n",
       "    .dataframe tbody tr th {\n",
       "        vertical-align: top;\n",
       "    }\n",
       "\n",
       "    .dataframe thead th {\n",
       "        text-align: right;\n",
       "    }\n",
       "</style>\n",
       "<table border=\"1\" class=\"dataframe\">\n",
       "  <thead>\n",
       "    <tr style=\"text-align: right;\">\n",
       "      <th></th>\n",
       "      <th>product_code</th>\n",
       "      <th>customer_code</th>\n",
       "      <th>market_code</th>\n",
       "      <th>order_date</th>\n",
       "      <th>sales_qty</th>\n",
       "      <th>sales_amount</th>\n",
       "      <th>cost_price</th>\n",
       "      <th>profit</th>\n",
       "      <th>profit_percentage</th>\n",
       "    </tr>\n",
       "  </thead>\n",
       "  <tbody>\n",
       "    <tr>\n",
       "      <th>0</th>\n",
       "      <td>Prod279</td>\n",
       "      <td>Cus020</td>\n",
       "      <td>Mark011</td>\n",
       "      <td>2017-10-11</td>\n",
       "      <td>1</td>\n",
       "      <td>1.275</td>\n",
       "      <td>0.77775</td>\n",
       "      <td>0.49725</td>\n",
       "      <td>39.0</td>\n",
       "    </tr>\n",
       "    <tr>\n",
       "      <th>1</th>\n",
       "      <td>Prod279</td>\n",
       "      <td>Cus020</td>\n",
       "      <td>Mark011</td>\n",
       "      <td>2017-10-18</td>\n",
       "      <td>1</td>\n",
       "      <td>1.275</td>\n",
       "      <td>1.42800</td>\n",
       "      <td>-0.15300</td>\n",
       "      <td>-12.0</td>\n",
       "    </tr>\n",
       "    <tr>\n",
       "      <th>2</th>\n",
       "      <td>Prod279</td>\n",
       "      <td>Cus020</td>\n",
       "      <td>Mark011</td>\n",
       "      <td>2017-10-19</td>\n",
       "      <td>1</td>\n",
       "      <td>1.275</td>\n",
       "      <td>0.90525</td>\n",
       "      <td>0.36975</td>\n",
       "      <td>29.0</td>\n",
       "    </tr>\n",
       "  </tbody>\n",
       "</table>\n",
       "</div>"
      ],
      "text/plain": [
       "  product_code customer_code market_code  order_date  sales_qty  sales_amount  \\\n",
       "0      Prod279        Cus020     Mark011  2017-10-11          1         1.275   \n",
       "1      Prod279        Cus020     Mark011  2017-10-18          1         1.275   \n",
       "2      Prod279        Cus020     Mark011  2017-10-19          1         1.275   \n",
       "\n",
       "   cost_price   profit  profit_percentage  \n",
       "0     0.77775  0.49725               39.0  \n",
       "1     1.42800 -0.15300              -12.0  \n",
       "2     0.90525  0.36975               29.0  "
      ]
     },
     "execution_count": 8,
     "metadata": {},
     "output_type": "execute_result"
    }
   ],
   "source": [
    "data['profit'] = data['sales_amount'] - data['cost_price']\n",
    "data['profit_percentage'] = data['profit'] / data['sales_amount'] * 100\n",
    "data.head(3)"
   ]
  },
  {
   "cell_type": "markdown",
   "id": "9d2cf529",
   "metadata": {},
   "source": [
    "##### 3. Dates manipulation"
   ]
  },
  {
   "cell_type": "code",
   "execution_count": 9,
   "id": "494170ba",
   "metadata": {},
   "outputs": [
    {
     "data": {
      "text/html": [
       "<div>\n",
       "<style scoped>\n",
       "    .dataframe tbody tr th:only-of-type {\n",
       "        vertical-align: middle;\n",
       "    }\n",
       "\n",
       "    .dataframe tbody tr th {\n",
       "        vertical-align: top;\n",
       "    }\n",
       "\n",
       "    .dataframe thead th {\n",
       "        text-align: right;\n",
       "    }\n",
       "</style>\n",
       "<table border=\"1\" class=\"dataframe\">\n",
       "  <thead>\n",
       "    <tr style=\"text-align: right;\">\n",
       "      <th></th>\n",
       "      <th>product_code</th>\n",
       "      <th>customer_code</th>\n",
       "      <th>market_code</th>\n",
       "      <th>order_date</th>\n",
       "      <th>sales_qty</th>\n",
       "      <th>sales_amount</th>\n",
       "      <th>cost_price</th>\n",
       "      <th>profit</th>\n",
       "      <th>profit_percentage</th>\n",
       "      <th>year</th>\n",
       "    </tr>\n",
       "  </thead>\n",
       "  <tbody>\n",
       "    <tr>\n",
       "      <th>0</th>\n",
       "      <td>Prod279</td>\n",
       "      <td>Cus020</td>\n",
       "      <td>Mark011</td>\n",
       "      <td>2017-10-11</td>\n",
       "      <td>1</td>\n",
       "      <td>1.275</td>\n",
       "      <td>0.77775</td>\n",
       "      <td>0.49725</td>\n",
       "      <td>39.0</td>\n",
       "      <td>2017</td>\n",
       "    </tr>\n",
       "    <tr>\n",
       "      <th>1</th>\n",
       "      <td>Prod279</td>\n",
       "      <td>Cus020</td>\n",
       "      <td>Mark011</td>\n",
       "      <td>2017-10-18</td>\n",
       "      <td>1</td>\n",
       "      <td>1.275</td>\n",
       "      <td>1.42800</td>\n",
       "      <td>-0.15300</td>\n",
       "      <td>-12.0</td>\n",
       "      <td>2017</td>\n",
       "    </tr>\n",
       "    <tr>\n",
       "      <th>2</th>\n",
       "      <td>Prod279</td>\n",
       "      <td>Cus020</td>\n",
       "      <td>Mark011</td>\n",
       "      <td>2017-10-19</td>\n",
       "      <td>1</td>\n",
       "      <td>1.275</td>\n",
       "      <td>0.90525</td>\n",
       "      <td>0.36975</td>\n",
       "      <td>29.0</td>\n",
       "      <td>2017</td>\n",
       "    </tr>\n",
       "  </tbody>\n",
       "</table>\n",
       "</div>"
      ],
      "text/plain": [
       "  product_code customer_code market_code order_date  sales_qty  sales_amount  \\\n",
       "0      Prod279        Cus020     Mark011 2017-10-11          1         1.275   \n",
       "1      Prod279        Cus020     Mark011 2017-10-18          1         1.275   \n",
       "2      Prod279        Cus020     Mark011 2017-10-19          1         1.275   \n",
       "\n",
       "   cost_price   profit  profit_percentage  year  \n",
       "0     0.77775  0.49725               39.0  2017  \n",
       "1     1.42800 -0.15300              -12.0  2017  \n",
       "2     0.90525  0.36975               29.0  2017  "
      ]
     },
     "execution_count": 9,
     "metadata": {},
     "output_type": "execute_result"
    }
   ],
   "source": [
    "# Convert the date column to datetime format\n",
    "data['order_date'] = pd.to_datetime(data['order_date'], format='%Y-%m-%d')\n",
    "\n",
    "# Extract the year from the date column and create a new column\n",
    "data['year'] = data['order_date'].dt.year\n",
    "data.head(3)"
   ]
  },
  {
   "cell_type": "markdown",
   "id": "79104b6b",
   "metadata": {},
   "source": [
    "##### 4. For categorical analysis"
   ]
  },
  {
   "cell_type": "code",
   "execution_count": 10,
   "id": "3a145aec",
   "metadata": {},
   "outputs": [
    {
     "name": "stdout",
     "output_type": "stream",
     "text": [
      "Low       80202\n",
      "High      34494\n",
      "Medium    33699\n",
      "Name: sales_qty_interval, dtype: int64\n"
     ]
    },
    {
     "data": {
      "text/html": [
       "<div>\n",
       "<style scoped>\n",
       "    .dataframe tbody tr th:only-of-type {\n",
       "        vertical-align: middle;\n",
       "    }\n",
       "\n",
       "    .dataframe tbody tr th {\n",
       "        vertical-align: top;\n",
       "    }\n",
       "\n",
       "    .dataframe thead th {\n",
       "        text-align: right;\n",
       "    }\n",
       "</style>\n",
       "<table border=\"1\" class=\"dataframe\">\n",
       "  <thead>\n",
       "    <tr style=\"text-align: right;\">\n",
       "      <th></th>\n",
       "      <th>product_code</th>\n",
       "      <th>customer_code</th>\n",
       "      <th>market_code</th>\n",
       "      <th>order_date</th>\n",
       "      <th>sales_qty</th>\n",
       "      <th>sales_amount</th>\n",
       "      <th>cost_price</th>\n",
       "      <th>profit</th>\n",
       "      <th>profit_percentage</th>\n",
       "      <th>year</th>\n",
       "      <th>sales_qty_interval</th>\n",
       "    </tr>\n",
       "  </thead>\n",
       "  <tbody>\n",
       "    <tr>\n",
       "      <th>0</th>\n",
       "      <td>Prod279</td>\n",
       "      <td>Cus020</td>\n",
       "      <td>Mark011</td>\n",
       "      <td>2017-10-11</td>\n",
       "      <td>1</td>\n",
       "      <td>1.275</td>\n",
       "      <td>0.77775</td>\n",
       "      <td>0.49725</td>\n",
       "      <td>39.0</td>\n",
       "      <td>2017</td>\n",
       "      <td>Low</td>\n",
       "    </tr>\n",
       "    <tr>\n",
       "      <th>1</th>\n",
       "      <td>Prod279</td>\n",
       "      <td>Cus020</td>\n",
       "      <td>Mark011</td>\n",
       "      <td>2017-10-18</td>\n",
       "      <td>1</td>\n",
       "      <td>1.275</td>\n",
       "      <td>1.42800</td>\n",
       "      <td>-0.15300</td>\n",
       "      <td>-12.0</td>\n",
       "      <td>2017</td>\n",
       "      <td>Low</td>\n",
       "    </tr>\n",
       "    <tr>\n",
       "      <th>2</th>\n",
       "      <td>Prod279</td>\n",
       "      <td>Cus020</td>\n",
       "      <td>Mark011</td>\n",
       "      <td>2017-10-19</td>\n",
       "      <td>1</td>\n",
       "      <td>1.275</td>\n",
       "      <td>0.90525</td>\n",
       "      <td>0.36975</td>\n",
       "      <td>29.0</td>\n",
       "      <td>2017</td>\n",
       "      <td>Low</td>\n",
       "    </tr>\n",
       "  </tbody>\n",
       "</table>\n",
       "</div>"
      ],
      "text/plain": [
       "  product_code customer_code market_code order_date  sales_qty  sales_amount  \\\n",
       "0      Prod279        Cus020     Mark011 2017-10-11          1         1.275   \n",
       "1      Prod279        Cus020     Mark011 2017-10-18          1         1.275   \n",
       "2      Prod279        Cus020     Mark011 2017-10-19          1         1.275   \n",
       "\n",
       "   cost_price   profit  profit_percentage  year sales_qty_interval  \n",
       "0     0.77775  0.49725               39.0  2017                Low  \n",
       "1     1.42800 -0.15300              -12.0  2017                Low  \n",
       "2     0.90525  0.36975               29.0  2017                Low  "
      ]
     },
     "execution_count": 10,
     "metadata": {},
     "output_type": "execute_result"
    }
   ],
   "source": [
    "intervals = [0, 1, 7, float('inf')]\n",
    "labels = ['Low', 'Medium', 'High']\n",
    "\n",
    "# Use pd.cut() to create the intervals based on the sales_qty column\n",
    "data['sales_qty_interval'] = pd.cut(data['sales_qty'], bins=intervals, labels=labels)\n",
    "\n",
    "# Print the counts of each interval\n",
    "print(data['sales_qty_interval'].value_counts())\n",
    "data.head(3)"
   ]
  },
  {
   "cell_type": "markdown",
   "id": "1249a530",
   "metadata": {},
   "source": [
    "##### 5. Label Encoding:"
   ]
  },
  {
   "cell_type": "code",
   "execution_count": 11,
   "id": "1159a28b",
   "metadata": {},
   "outputs": [
    {
     "data": {
      "text/html": [
       "<div>\n",
       "<style scoped>\n",
       "    .dataframe tbody tr th:only-of-type {\n",
       "        vertical-align: middle;\n",
       "    }\n",
       "\n",
       "    .dataframe tbody tr th {\n",
       "        vertical-align: top;\n",
       "    }\n",
       "\n",
       "    .dataframe thead th {\n",
       "        text-align: right;\n",
       "    }\n",
       "</style>\n",
       "<table border=\"1\" class=\"dataframe\">\n",
       "  <thead>\n",
       "    <tr style=\"text-align: right;\">\n",
       "      <th></th>\n",
       "      <th>product_code</th>\n",
       "      <th>customer_code</th>\n",
       "      <th>market_code</th>\n",
       "      <th>order_date</th>\n",
       "      <th>sales_qty</th>\n",
       "      <th>sales_amount</th>\n",
       "      <th>cost_price</th>\n",
       "      <th>profit</th>\n",
       "      <th>profit_percentage</th>\n",
       "      <th>year</th>\n",
       "      <th>sales_qty_interval</th>\n",
       "    </tr>\n",
       "  </thead>\n",
       "  <tbody>\n",
       "    <tr>\n",
       "      <th>0</th>\n",
       "      <td>278</td>\n",
       "      <td>19</td>\n",
       "      <td>10</td>\n",
       "      <td>2017-10-11</td>\n",
       "      <td>1</td>\n",
       "      <td>1.275</td>\n",
       "      <td>0.77775</td>\n",
       "      <td>0.49725</td>\n",
       "      <td>39.0</td>\n",
       "      <td>2017</td>\n",
       "      <td>Low</td>\n",
       "    </tr>\n",
       "    <tr>\n",
       "      <th>1</th>\n",
       "      <td>278</td>\n",
       "      <td>19</td>\n",
       "      <td>10</td>\n",
       "      <td>2017-10-18</td>\n",
       "      <td>1</td>\n",
       "      <td>1.275</td>\n",
       "      <td>1.42800</td>\n",
       "      <td>-0.15300</td>\n",
       "      <td>-12.0</td>\n",
       "      <td>2017</td>\n",
       "      <td>Low</td>\n",
       "    </tr>\n",
       "    <tr>\n",
       "      <th>2</th>\n",
       "      <td>278</td>\n",
       "      <td>19</td>\n",
       "      <td>10</td>\n",
       "      <td>2017-10-19</td>\n",
       "      <td>1</td>\n",
       "      <td>1.275</td>\n",
       "      <td>0.90525</td>\n",
       "      <td>0.36975</td>\n",
       "      <td>29.0</td>\n",
       "      <td>2017</td>\n",
       "      <td>Low</td>\n",
       "    </tr>\n",
       "    <tr>\n",
       "      <th>3</th>\n",
       "      <td>278</td>\n",
       "      <td>19</td>\n",
       "      <td>10</td>\n",
       "      <td>2017-11-08</td>\n",
       "      <td>1</td>\n",
       "      <td>1.275</td>\n",
       "      <td>0.81600</td>\n",
       "      <td>0.45900</td>\n",
       "      <td>36.0</td>\n",
       "      <td>2017</td>\n",
       "      <td>Low</td>\n",
       "    </tr>\n",
       "    <tr>\n",
       "      <th>4</th>\n",
       "      <td>278</td>\n",
       "      <td>19</td>\n",
       "      <td>10</td>\n",
       "      <td>2018-03-09</td>\n",
       "      <td>1</td>\n",
       "      <td>1.275</td>\n",
       "      <td>1.72125</td>\n",
       "      <td>-0.44625</td>\n",
       "      <td>-35.0</td>\n",
       "      <td>2018</td>\n",
       "      <td>Low</td>\n",
       "    </tr>\n",
       "  </tbody>\n",
       "</table>\n",
       "</div>"
      ],
      "text/plain": [
       "   product_code  customer_code  market_code order_date  sales_qty  \\\n",
       "0           278             19           10 2017-10-11          1   \n",
       "1           278             19           10 2017-10-18          1   \n",
       "2           278             19           10 2017-10-19          1   \n",
       "3           278             19           10 2017-11-08          1   \n",
       "4           278             19           10 2018-03-09          1   \n",
       "\n",
       "   sales_amount  cost_price   profit  profit_percentage  year  \\\n",
       "0         1.275     0.77775  0.49725               39.0  2017   \n",
       "1         1.275     1.42800 -0.15300              -12.0  2017   \n",
       "2         1.275     0.90525  0.36975               29.0  2017   \n",
       "3         1.275     0.81600  0.45900               36.0  2017   \n",
       "4         1.275     1.72125 -0.44625              -35.0  2018   \n",
       "\n",
       "  sales_qty_interval  \n",
       "0                Low  \n",
       "1                Low  \n",
       "2                Low  \n",
       "3                Low  \n",
       "4                Low  "
      ]
     },
     "execution_count": 11,
     "metadata": {},
     "output_type": "execute_result"
    }
   ],
   "source": [
    "le = LabelEncoder()\n",
    "\n",
    "data['product_code'] = le.fit_transform(data['product_code'])\n",
    "data['customer_code'] = le.fit_transform(data['customer_code'])\n",
    "data['market_code'] = le.fit_transform(data['market_code'])\n",
    "data.head()"
   ]
  },
  {
   "cell_type": "markdown",
   "id": "46ee4b28",
   "metadata": {},
   "source": [
    "### Visualizations: "
   ]
  },
  {
   "cell_type": "markdown",
   "id": "00361cd8",
   "metadata": {},
   "source": [
    "#### 1) Sales Amount and Cost Price over Time\n",
    "* Understanding the trend of Sales amount and Cost proce over the years.\n",
    "* It can be seen that both the prices saw an increase from 2017 to 2018\n",
    "* There was a declination from 2018 to 2019\n",
    "* After 2019, there was an increase in the prices, but the difference between Sales amount and Cost price started to lessen"
   ]
  },
  {
   "cell_type": "code",
   "execution_count": 12,
   "id": "39be0eff",
   "metadata": {},
   "outputs": [
    {
     "data": {
      "image/png": "[encoded data removed]",
      "text/plain": [
       "<Figure size 432x288 with 1 Axes>"
      ]
     },
     "metadata": {
      "needs_background": "light"
     },
     "output_type": "display_data"
    }
   ],
   "source": [
    "## Plotting the graph\n",
    "\n",
    "sns.lineplot(x='year', y='sales_amount', data=data, label='Sales Amount', ci=None)\n",
    "sns.lineplot(x='year', y='cost_price', data=data, label='Cost Price', ci=None)\n",
    "\n",
    "plt.title('Sales Amount and Cost Price over Time')\n",
    "plt.xlabel('Year')\n",
    "plt.ylabel('USD')\n",
    "plt.legend()\n",
    "\n",
    "plt.show()\n"
   ]
  },
  {
   "cell_type": "markdown",
   "id": "6f6862ad",
   "metadata": {},
   "source": [
    "#### 2) Profit over Time\n",
    "\n",
    "* It shows after the year 2019, there was a significant decline in the profit of the products\n",
    "* This was stated by the Sales director"
   ]
  },
  {
   "cell_type": "code",
   "execution_count": 13,
   "id": "e50a6aba",
   "metadata": {},
   "outputs": [
    {
     "data": {
      "image/png": "[encoded data removed]",
      "text/plain": [
       "<Figure size 432x288 with 1 Axes>"
      ]
     },
     "metadata": {
      "needs_background": "light"
     },
     "output_type": "display_data"
    }
   ],
   "source": [
    "sns.lineplot(x='year', y='profit', data=data, label='Sales Amount',color = 'green', ci=None)\n",
    "\n",
    "plt.title('Profit over Time')\n",
    "plt.xlabel('Year')\n",
    "plt.ylabel('USD')\n",
    "plt.legend()\n",
    "\n",
    "plt.show()"
   ]
  },
  {
   "cell_type": "markdown",
   "id": "22c44dc3",
   "metadata": {},
   "source": [
    "#### 3) Top customers by sales amount"
   ]
  },
  {
   "cell_type": "code",
   "execution_count": 14,
   "id": "bbf17c06",
   "metadata": {},
   "outputs": [
    {
     "data": {
      "image/png": "[encoded data removed]",
      "text/plain": [
       "<Figure size 432x288 with 1 Axes>"
      ]
     },
     "metadata": {
      "needs_background": "light"
     },
     "output_type": "display_data"
    }
   ],
   "source": [
    "import matplotlib.pyplot as plt\n",
    "\n",
    "# Group the data by customer code and sum the sales amount\n",
    "customer_sales = data.groupby('customer_code')['sales_amount'].sum()\n",
    "\n",
    "customer_sales = customer_sales.sort_values(ascending=False)\n",
    "\n",
    "# Get the top 5 customers based on sales amount\n",
    "top_customers = customer_sales.nlargest(5)\n",
    "\n",
    "# Plot the bar chart\n",
    "plt.bar(top_customers.index, top_customers.values)\n",
    "plt.title('Top 5 Customers by Sales Amount')\n",
    "plt.xlabel('Customer Code')\n",
    "plt.ylabel('Sales Amount')\n",
    "plt.show()\n"
   ]
  },
  {
   "cell_type": "markdown",
   "id": "1c79b038",
   "metadata": {},
   "source": [
    "#### 4) Market by sales amount"
   ]
  },
  {
   "cell_type": "code",
   "execution_count": 15,
   "id": "d00fcb62",
   "metadata": {},
   "outputs": [
    {
     "data": {
      "image/png": "[encoded data removed]",
      "text/plain": [
       "<Figure size 720x360 with 1 Axes>"
      ]
     },
     "metadata": {
      "needs_background": "light"
     },
     "output_type": "display_data"
    }
   ],
   "source": [
    "# group the data by market_code and calculate the total sales amount for each market\n",
    "market_sales = data.groupby('market_code')['sales_amount'].sum()\n",
    "\n",
    "# sort the market sales data in descending order\n",
    "market_sales = market_sales.sort_values(ascending=False)\n",
    "\n",
    "# create a bar plot of the market sales data\n",
    "market_sales.plot(kind='bar', figsize=(10, 5))\n",
    "\n",
    "# set the plot title and axis labels\n",
    "plt.title('Total Sales Amount by Market')\n",
    "plt.xlabel('Market Code')\n",
    "plt.ylabel('Total Sales Amount (USD)')\n",
    "\n",
    "# display the plot\n",
    "plt.show()"
   ]
  },
  {
   "cell_type": "markdown",
   "id": "f4e6f626",
   "metadata": {},
   "source": [
    "#### 5) Profit by market"
   ]
  },
  {
   "cell_type": "code",
   "execution_count": 16,
   "id": "f817e49a",
   "metadata": {},
   "outputs": [
    {
     "data": {
      "image/png": "[encoded data removed]",
      "text/plain": [
       "<Figure size 720x360 with 1 Axes>"
      ]
     },
     "metadata": {
      "needs_background": "light"
     },
     "output_type": "display_data"
    }
   ],
   "source": [
    "# group the data by market_code and calculate the total sales amount for each market\n",
    "market_sales = data.groupby('market_code')['profit_percentage'].sum()\n",
    "\n",
    "# sort the market sales data in descending order\n",
    "market_sales = market_sales.sort_values(ascending=False)\n",
    "\n",
    "# create a bar plot of the market sales data\n",
    "market_sales.plot(kind='bar', figsize=(10, 5), color = 'green')\n",
    "\n",
    "# set the plot title and axis labels\n",
    "plt.title('Profit percentage by Market')\n",
    "plt.xlabel('Market Code')\n",
    "plt.ylabel('Total Sales Amount (USD)')\n",
    "\n",
    "# display the plot\n",
    "plt.show()"
   ]
  },
  {
   "cell_type": "markdown",
   "id": "c41cc44c",
   "metadata": {},
   "source": [
    "* By analyzing the top markets by the Total sales amount and Profit percentage, it can be seen that Top 5 markets are `1`,`2`,`3`,`6`,`10`, But the rankings differed.\n",
    "\n",
    "* While market `3` was leading in terms of sales_amount, market `10` showed better profit results"
   ]
  },
  {
   "cell_type": "markdown",
   "id": "a4b6c944",
   "metadata": {},
   "source": [
    "#### 6)Tableu Visualizations:"
   ]
  },
  {
   "cell_type": "markdown",
   "id": "20aa5b64",
   "metadata": {},
   "source": [
    "##### Profit by Market\n",
    "<img src='Screenshot 2023-05-01 at 1.54.25 PM.png' width=\"40%\">"
   ]
  },
  {
   "cell_type": "markdown",
   "id": "ae8812ac",
   "metadata": {},
   "source": [
    "##### Revenue by Market\n",
    "<img src='Screenshot 2023-05-01 at 1.54.15 PM.png' width=\"40%\">"
   ]
  },
  {
   "cell_type": "markdown",
   "id": "60307845",
   "metadata": {},
   "source": [
    "##### Revenue trend\n",
    "<img src='Screenshot 2023-05-01 at 1.53.56 PM.png' width=\"580%\">"
   ]
  },
  {
   "cell_type": "markdown",
   "id": "59f2d368",
   "metadata": {},
   "source": [
    "##### Profit trend\n",
    "<img src='Screenshot 2023-05-01 at 1.52.36 PM.png' width=\"80%\">"
   ]
  },
  {
   "cell_type": "markdown",
   "id": "051e2cdc",
   "metadata": {},
   "source": [
    "## Ch. 3 -  Methodologies"
   ]
  },
  {
   "cell_type": "markdown",
   "id": "8286f5ab",
   "metadata": {},
   "source": [
    "#### Following are the methodologies which will be used to statistically and predictively analyze the data:\n",
    "\n",
    "* **1. Comparing Two Samples:**\n",
    "The t-test and z-test are commonly used methods for comparing two samples. The t-test is used when the sample size is small, and the population standard deviation is unknown. The z-test, on the other hand, is used when the sample size is large, and the population standard deviation is known. These tests are used to determine whether the means of two samples are significantly different from each other.\n",
    "<br>\n",
    "\n",
    "* **2. The Analysis of Variance (ANOVA):**\n",
    "ANOVA is a statistical method used to compare the means of two or more groups. It determines whether the differences in the means of the groups are statistically significant or whether they are simply due to random chance. ANOVA is used when there are more than two groups, and it can be used to determine which groups are significantly different from each other.\n",
    "<br>\n",
    "* **3. The Analysis of Categorical Data:**\n",
    "The analysis of categorical data involves analyzing data that is divided into categories. This type of data is often represented in contingency tables. Methods such as chi-square test and Fisher's exact test are used to analyze categorical data. These tests are used to determine whether the differences in the distribution of the categories are statistically significant or whether they are simply due to random chance.\n",
    "<br>\n",
    "* **4. Linear Regression:**\n",
    "Linear regression is a statistical method used to model the relationship between a dependent variable and one or more independent variables. It is used to determine the strength and direction of the relationship between the variables. The method involves fitting a linear equation to the data and estimating the coefficients of the equation.\n",
    "<br>\n",
    "* **5. Resampling Methods:**\n",
    "Resampling methods involve creating new samples from the original data set. These methods are used when the sample size is small or when the data is not normally distributed. Two common resampling methods are bootstrap and permutation tests. These methods are used to estimate the variability of a statistic and to determine whether the differences in the statistics are statistically significant.\n",
    "<br>\n",
    "* **6. Linear Model Selection and Regularization:**\n",
    "Linear model selection and regularization methods are used to select the best subset of variables for a linear regression model. These methods involve adding or removing variables from the model to improve its predictive power. Regularization methods involve adding a penalty term to the regression equation to prevent overfitting.\n",
    "<br>\n",
    "* **7. Moving Beyond Linearity:**\n",
    "Moving beyond linearity involves modeling the relationship between variables using nonlinear models. Nonlinear models are used when the relationship between variables is not linear. Methods such as logistic regression and polynomial regression are used to model nonlinear relationships. These methods are used to determine the strength and direction of the relationship between variables and to make predictions."
   ]
  },
  {
   "cell_type": "markdown",
   "id": "623418d7",
   "metadata": {},
   "source": [
    "## Ch.4 - Implementations, Analysis and Results "
   ]
  },
  {
   "cell_type": "markdown",
   "id": "573e596c",
   "metadata": {},
   "source": [
    "### 4.1 Comparing two samples:\n",
    "\n",
    "*  Using comparison of two samples (z-test) to test whether the mean profit margin in one group is significantly different from the mean profit margin in the other group.\n",
    "* For this, I am taking two different market for analysis.\n",
    "* As we saw different lead in the sales amount and profit percentage, I want to analyze the means of top market for both "
   ]
  },
  {
   "cell_type": "markdown",
   "id": "0fa2de90",
   "metadata": {},
   "source": [
    "**Null Hypothesis (H0):** There is no significant difference in their mean of the two markets <br>\n",
    "**Alternative Hypothesis (H1) :** There is significant difference in their mean of the two markets"
   ]
  },
  {
   "cell_type": "markdown",
   "id": "810f3fec",
   "metadata": {},
   "source": [
    "##### Grouping by sale amount"
   ]
  },
  {
   "cell_type": "code",
   "execution_count": 17,
   "id": "85675e28",
   "metadata": {},
   "outputs": [
    {
     "name": "stdout",
     "output_type": "stream",
     "text": [
      "z-statistic: -3.8252330746901113\n",
      "p-value: 0.00013064842292509482\n",
      "Reject null hypothesis; there is significant difference in profit margin percentage among markets.\n"
     ]
    }
   ],
   "source": [
    "import statsmodels.api as sm\n",
    "\n",
    "# Define the two groups\n",
    "group1 = data[data['market_code'] == 3]['sales_amount']\n",
    "group2 = data[data['market_code'] == 1]['sales_amount']\n",
    "\n",
    "# Calculate the mean and standard deviation for each group\n",
    "mean1, std1 = group1.mean(), group1.std()\n",
    "mean2, std2 = group2.mean(), group2.std()\n",
    "\n",
    "# Calculate the standard error of the difference in means\n",
    "se = ((std1**2)/len(group1) + (std2**2)/len(group2))**0.5\n",
    "\n",
    "# Calculate the z-score\n",
    "z = (mean1 - mean2) / se\n",
    "\n",
    "# Calculate the p-value\n",
    "p_value = 2 * (1 - stats.norm.cdf(abs(z)))\n",
    "\n",
    "print('z-statistic:', z)\n",
    "print('p-value:', p_value)\n",
    "\n",
    "alpha = 0.05\n",
    "if p_value < alpha:\n",
    "    print('Reject null hypothesis; there is significant difference in profit margin percentage among markets.')\n",
    "else:\n",
    "    print('Fail to reject null hypothesis; there is no significant difference in profit margin percentage among markets.')\n"
   ]
  },
  {
   "cell_type": "markdown",
   "id": "e97f2423",
   "metadata": {},
   "source": [
    "##### Grouping by profit percentage"
   ]
  },
  {
   "cell_type": "code",
   "execution_count": 18,
   "id": "24d737b2",
   "metadata": {},
   "outputs": [
    {
     "name": "stdout",
     "output_type": "stream",
     "text": [
      "z-statistic: -1.9019719655317198\n",
      "p-value: 0.057174819742147553\n",
      "Fail to reject null hypothesis; there is no significant difference in profit margin percentage among markets.\n"
     ]
    }
   ],
   "source": [
    "import statsmodels.api as sm\n",
    "\n",
    "# Define the two groups\n",
    "group1 = data[data['market_code'] == 3]['profit_percentage']\n",
    "group2 = data[data['market_code'] == 10]['profit_percentage']\n",
    "\n",
    "# Calculate the mean and standard deviation for each group\n",
    "mean1, std1 = group1.mean(), group1.std()\n",
    "mean2, std2 = group2.mean(), group2.std()\n",
    "\n",
    "# Calculate the standard error of the difference in means\n",
    "se = ((std1**2)/len(group1) + (std2**2)/len(group2))**0.5\n",
    "\n",
    "# Calculate the z-score\n",
    "z = (mean1 - mean2) / se\n",
    "\n",
    "# Calculate the p-value\n",
    "p_value = 2 * (1 - stats.norm.cdf(abs(z)))\n",
    "\n",
    "print('z-statistic:', z)\n",
    "print('p-value:', p_value)\n",
    "\n",
    "alpha = 0.05\n",
    "if p_value < alpha:\n",
    "    print('Reject null hypothesis; there is significant difference in profit margin percentage among markets.')\n",
    "else:\n",
    "    print('Fail to reject null hypothesis; there is no significant difference in profit margin percentage among markets.')\n"
   ]
  },
  {
   "cell_type": "markdown",
   "id": "f8507ca4",
   "metadata": {},
   "source": [
    "### 4.2. ANOVA\n",
    "\n",
    "- Using ANOVA (analysis of variance) test to test whether there is a significant difference in the mean profit margin across the groups (here markets). "
   ]
  },
  {
   "cell_type": "code",
   "execution_count": 19,
   "id": "518d9fea",
   "metadata": {},
   "outputs": [
    {
     "name": "stdout",
     "output_type": "stream",
     "text": [
      "One-way ANOVA results:\n",
      "F-statistic: 28.52623123850937\n",
      "p-value: 2.218324719096583e-76\n",
      "Reject null hypothesis: there is significant difference in profit margin percentage among markets.\n"
     ]
    }
   ],
   "source": [
    "# Step 1: Divide the data into groups based on market code\n",
    "groups = [data[data['market_code'] == code]['profit'] for code in data['market_code'].unique()]\n",
    "\n",
    "# Step 2: Perform an ANOVA test\n",
    "f_stat, p_value = stats.f_oneway(*groups)\n",
    "print('One-way ANOVA results:')\n",
    "print('F-statistic:', f_stat)\n",
    "print('p-value:', p_value)\n",
    "\n",
    "# Step 3: Interpret the results\n",
    "alpha = 0.05\n",
    "if p_value < alpha:\n",
    "    print('Reject null hypothesis: there is significant difference in profit margin percentage among markets.')\n",
    "else:\n",
    "    print('Fail to reject null hypothesis: there is no significant difference in profit margin percentage among markets.')\n"
   ]
  },
  {
   "cell_type": "markdown",
   "id": "a3d4f7b6",
   "metadata": {},
   "source": [
    "**Since the null hypotheis is rejected, Tukeys test is done**"
   ]
  },
  {
   "cell_type": "markdown",
   "id": "d330f4a6",
   "metadata": {},
   "source": [
    "### Tukeys test"
   ]
  },
  {
   "cell_type": "code",
   "execution_count": 20,
   "id": "dd31a685",
   "metadata": {},
   "outputs": [
    {
     "name": "stdout",
     "output_type": "stream",
     "text": [
      "Tukey test results:\n",
      "   Multiple Comparison of Means - Tukey HSD, FWER=0.05   \n",
      "=========================================================\n",
      "group1 group2  meandiff p-adj    lower     upper   reject\n",
      "---------------------------------------------------------\n",
      "     0      1    1.7253    1.0   -7.7223   11.1728  False\n",
      "     0      2   -1.8778    1.0  -11.1527    7.3972  False\n",
      "     0      3   -0.2914    1.0   -9.4417    8.8589  False\n",
      "     0      4   -3.9478 0.9953   -14.519    6.6234  False\n",
      "     0      5  -72.8825 0.0978 -150.9221    5.1571  False\n",
      "     0      6   -2.6712 0.9998  -12.0619    6.7195  False\n",
      "     0      7    0.0905    1.0  -29.7531   29.9341  False\n",
      "     0      8    2.0125    1.0  -15.0483   19.0733  False\n",
      "     0      9    -1.868    1.0   -11.814     8.078  False\n",
      "     0     10   -3.2845 0.9969  -12.4273    5.8582  False\n",
      "     0     11    0.2744    1.0  -16.7712     17.32  False\n",
      "     0     12  158.6367    0.0  127.6844   189.589   True\n",
      "     0     13   -3.3663 0.9995   -14.465    7.7325  False\n",
      "     0     14     0.318    1.0  -28.5415   29.1775  False\n",
      "     1      2    -3.603 0.0265   -7.0131   -0.1929   True\n",
      "     1      3   -2.0166 0.6365   -5.0715    1.0383  False\n",
      "     1      4    -5.673 0.1033  -11.7849    0.4388  False\n",
      "     1      5  -74.6077 0.0743 -152.1692    2.9538  False\n",
      "     1      6   -4.3965 0.0053     -8.11    -0.683   True\n",
      "     1      7   -1.6348    1.0  -30.2048   26.9353  False\n",
      "     1      8    0.2872    1.0  -14.4327   15.0072  False\n",
      "     1      9   -3.5933 0.4693   -8.5458    1.3592  False\n",
      "     1     10   -5.0098    0.0   -8.0421   -1.9775   True\n",
      "     1     11   -1.4509    1.0  -16.1532   13.2514  False\n",
      "     1     12  156.9115    0.0  127.1852  186.6377   True\n",
      "     1     13   -5.0915 0.4608  -12.0762    1.8932  False\n",
      "     1     14   -1.4073    1.0  -28.9477   26.1331  False\n",
      "     2      3    1.5864 0.6808   -0.8836    4.0564  False\n",
      "     2      4     -2.07 0.9973   -7.9115    3.7715  False\n",
      "     2      5  -71.0047  0.116 -148.5454    6.5359  False\n",
      "     2      6   -0.7934    1.0   -4.0428    2.4559  False\n",
      "     2      7    1.9683    1.0  -26.5451   30.4817  False\n",
      "     2      8    3.8903 0.9999  -10.7195      18.5  False\n",
      "     2      9    0.0098    1.0   -4.6049    4.6245  False\n",
      "     2     10   -1.4068 0.8254   -3.8487    1.0352  False\n",
      "     2     11    2.1521    1.0  -12.4398   16.7441  False\n",
      "     2     12  160.5145    0.0  130.8427  190.1863   True\n",
      "     2     13   -1.4885    1.0   -8.2378    5.2609  False\n",
      "     2     14    2.1958    1.0  -25.2859   29.6774  False\n",
      "     3      4   -3.6564 0.6665   -9.2979    1.9851  False\n",
      "     3      5  -72.5911 0.0955 -150.1169    4.9347  False\n",
      "     3      6   -2.3798 0.2423   -5.2542    0.4946  False\n",
      "     3      7    0.3819    1.0  -28.0913    28.855  False\n",
      "     3      8    2.3039    1.0  -12.2271   16.8348  False\n",
      "     3      9   -1.5766 0.9966   -5.9355    2.7822  False\n",
      "     3     10   -2.9932    0.0   -4.9081   -1.0783   True\n",
      "     3     11    0.5657    1.0  -13.9473   15.0788  False\n",
      "     3     12  158.9281    0.0   129.295  188.5612   True\n",
      "     3     13   -3.0749 0.9621   -9.6519    3.5022  False\n",
      "     3     14    0.6094    1.0  -26.8305   28.0492  False\n",
      "     4      5  -68.9347 0.1499 -146.6411    8.7717  False\n",
      "     4      6    1.2766    1.0   -4.7471    7.3002  False\n",
      "     4      7    4.0383    1.0  -24.9227   32.9993  False\n",
      "     4      8    5.9603 0.9936   -9.5049   21.4254  False\n",
      "     4      9    2.0798 0.9995   -4.7774     8.937  False\n",
      "     4     10    0.6632    1.0    -4.966    6.2925  False\n",
      "     4     11    4.2221 0.9999  -11.2262   19.6705  False\n",
      "     4     12  162.5845    0.0  132.4823  192.6867   True\n",
      "     4     13    0.5815    1.0   -7.8612    9.0243  False\n",
      "     4     14    4.2658    1.0  -23.6801   32.2116  False\n",
      "     5      6   70.2113 0.1276   -7.3433  147.7659  False\n",
      "     5      7    72.973 0.1543   -9.5932  155.5391  False\n",
      "     5      8    74.895 0.0838   -3.9568  153.7467  False\n",
      "     5      9   71.0145  0.117   -6.6093  148.6382  False\n",
      "     5     10   69.5979 0.1366    -7.927  147.1229  False\n",
      "     5     11   73.1568 0.1036   -5.6916  152.0053  False\n",
      "     5     12  231.5192    0.0  148.5459  314.4925   True\n",
      "     5     13   69.5162 0.1415   -8.2637  147.2961  False\n",
      "     5     14   73.2005 0.1458   -9.0151   155.416  False\n",
      "     6      7    2.7617    1.0  -25.7896    31.313  False\n",
      "     6      8    4.6837 0.9991   -9.9998   19.3672  False\n",
      "     6      9    0.8032    1.0     -4.04    5.6464  False\n",
      "     6     10   -0.6133    1.0   -3.4637     2.237  False\n",
      "     6     11    2.9456    1.0  -11.7203   17.6114  False\n",
      "     6     12  161.3079    0.0  131.5997  191.0162   True\n",
      "     6     13    -0.695    1.0   -7.6027    6.2126  False\n",
      "     6     14    2.9892    1.0  -24.5318   30.5102  False\n",
      "     7      8     1.922    1.0  -29.9851   33.8291  False\n",
      "     7      9   -1.9585    1.0  -30.6972   26.7802  False\n",
      "     7     10   -3.3751    1.0  -31.8458   25.0957  False\n",
      "     7     11    0.1839    1.0  -31.7151   32.0828  False\n",
      "     7     12  158.5462    0.0   117.497  199.5954   True\n",
      "     7     13   -3.4568    1.0  -32.6145    25.701  False\n",
      "     7     14    0.2275    1.0  -39.2676   39.7225  False\n",
      "     8      9   -3.8805 0.9999  -18.9252   11.1642  False\n",
      "     8     10    -5.297 0.9963  -19.8232    9.2292  False\n",
      "     8     11   -1.7381    1.0  -22.1825   18.7063  False\n",
      "     8     12  156.6242    0.0  123.6779  189.5706   True\n",
      "     8     13   -5.3787 0.9983  -21.2091   10.4517  False\n",
      "     8     14   -1.6945    1.0  -32.6831    29.294  False\n",
      "     9     10   -1.4165 0.9989   -5.7595    2.9265  False\n",
      "     9     11    2.1424    1.0  -12.8851   17.1698  False\n",
      "     9     12  160.5047    0.0  130.6164  190.3931   True\n",
      "     9     13   -1.4982    1.0   -9.1437    6.1472  False\n",
      "     9     14     2.186    1.0  -25.5294   29.9014  False\n",
      "    10     11    3.5589    1.0  -10.9494   18.0672  False\n",
      "    10     12  161.9213    0.0  132.2905  191.5521   True\n",
      "    10     13   -0.0817    1.0   -6.6483    6.4849  False\n",
      "    10     14    3.6025    1.0  -23.8348   31.0399  False\n",
      "    11     12  158.3624    0.0  125.4239  191.3009   True\n",
      "    11     13   -3.6406    1.0  -19.4546   12.1734  False\n",
      "    11     14    0.0436    1.0  -30.9366   31.0238  False\n",
      "    12     13  -162.003    0.0 -192.2945 -131.7115   True\n",
      "    12     14 -158.3187    0.0 -198.6581 -117.9794   True\n",
      "    13     14    3.6842    1.0  -24.4654   31.8338  False\n",
      "---------------------------------------------------------\n"
     ]
    }
   ],
   "source": [
    "import statsmodels.stats.multicomp as mc\n",
    "\n",
    "# Step 1: Divide the data into groups based on market code\n",
    "groups = [data[data['market_code'] == code]['profit'] for code in data['market_code'].unique()]\n",
    "\n",
    "# Step 2: Perform Tukey's test\n",
    "if p_value < alpha:\n",
    "    tukey = mc.MultiComparison(data['profit'], data['market_code'])\n",
    "    result = tukey.tukeyhsd()\n",
    "    print('Tukey test results:')\n",
    "    print(result)\n",
    "else:\n",
    "    print('Cannot perform Tukey test as ANOVA test did not reject null hypothesis')\n"
   ]
  },
  {
   "cell_type": "markdown",
   "id": "e6f272d1",
   "metadata": {},
   "source": [
    "### 4.3 The Analysis of Categorical Data\n",
    "* For this task I am using `sales_qty_interval` which categorizes the sales quantitiy into `Low`, `Medium` and `High` along with `year` to compare these categories\n",
    "* Contingency table will be created and we can analyze the trend in sales quantity over the years"
   ]
  },
  {
   "cell_type": "code",
   "execution_count": 21,
   "id": "4faac594",
   "metadata": {},
   "outputs": [
    {
     "data": {
      "text/html": [
       "<div>\n",
       "<style scoped>\n",
       "    .dataframe tbody tr th:only-of-type {\n",
       "        vertical-align: middle;\n",
       "    }\n",
       "\n",
       "    .dataframe tbody tr th {\n",
       "        vertical-align: top;\n",
       "    }\n",
       "\n",
       "    .dataframe thead th {\n",
       "        text-align: right;\n",
       "    }\n",
       "</style>\n",
       "<table border=\"1\" class=\"dataframe\">\n",
       "  <thead>\n",
       "    <tr style=\"text-align: right;\">\n",
       "      <th>year</th>\n",
       "      <th>2017</th>\n",
       "      <th>2018</th>\n",
       "      <th>2019</th>\n",
       "      <th>2020</th>\n",
       "    </tr>\n",
       "    <tr>\n",
       "      <th>sales_qty_interval</th>\n",
       "      <th></th>\n",
       "      <th></th>\n",
       "      <th></th>\n",
       "      <th></th>\n",
       "    </tr>\n",
       "  </thead>\n",
       "  <tbody>\n",
       "    <tr>\n",
       "      <th>Low</th>\n",
       "      <td>7916</td>\n",
       "      <td>33470</td>\n",
       "      <td>27425</td>\n",
       "      <td>11391</td>\n",
       "    </tr>\n",
       "    <tr>\n",
       "      <th>Medium</th>\n",
       "      <td>3351</td>\n",
       "      <td>13379</td>\n",
       "      <td>12125</td>\n",
       "      <td>4844</td>\n",
       "    </tr>\n",
       "    <tr>\n",
       "      <th>High</th>\n",
       "      <td>3290</td>\n",
       "      <td>13906</td>\n",
       "      <td>12162</td>\n",
       "      <td>5136</td>\n",
       "    </tr>\n",
       "  </tbody>\n",
       "</table>\n",
       "</div>"
      ],
      "text/plain": [
       "year                2017   2018   2019   2020\n",
       "sales_qty_interval                           \n",
       "Low                 7916  33470  27425  11391\n",
       "Medium              3351  13379  12125   4844\n",
       "High                3290  13906  12162   5136"
      ]
     },
     "execution_count": 21,
     "metadata": {},
     "output_type": "execute_result"
    }
   ],
   "source": [
    "from scipy.stats import chi2_contingency\n",
    "\n",
    "# create a contingency table\n",
    "table = pd.crosstab(data['sales_qty_interval'], data['year'])\n",
    "table"
   ]
  },
  {
   "cell_type": "markdown",
   "id": "dcdc2b7c",
   "metadata": {},
   "source": [
    "**Null Hypothesis :** There is no association between sales quantity and year, i.e., they are independent <br>\n",
    "**Alternative Hypothesis :**  There is a significant association between the two "
   ]
  },
  {
   "cell_type": "code",
   "execution_count": 22,
   "id": "33cac710",
   "metadata": {},
   "outputs": [
    {
     "name": "stdout",
     "output_type": "stream",
     "text": [
      "Chi-square statistic: 63.53181516602004\n",
      "p-value: 8.59924582047769e-12\n",
      "Reject null hypothesis: there is a significant association between sales quantity interval and year.\n"
     ]
    }
   ],
   "source": [
    "# perform chi-square test\n",
    "chi2, p, dof, expected = chi2_contingency(table)\n",
    "\n",
    "print('Chi-square statistic:', chi2)\n",
    "print('p-value:', p)\n",
    "\n",
    "alpha = 0.05\n",
    "if p < alpha:\n",
    "    print('Reject null hypothesis: there is a significant association between sales quantity interval and year.')\n",
    "else:\n",
    "    print('Fail to reject null hypothesis: there is no significant association between sales quantity interval and year.')\n",
    "\n"
   ]
  },
  {
   "cell_type": "code",
   "execution_count": 23,
   "id": "54f78ce3",
   "metadata": {},
   "outputs": [
    {
     "data": {
      "text/html": [
       "<div>\n",
       "<style scoped>\n",
       "    .dataframe tbody tr th:only-of-type {\n",
       "        vertical-align: middle;\n",
       "    }\n",
       "\n",
       "    .dataframe tbody tr th {\n",
       "        vertical-align: top;\n",
       "    }\n",
       "\n",
       "    .dataframe thead th {\n",
       "        text-align: right;\n",
       "    }\n",
       "</style>\n",
       "<table border=\"1\" class=\"dataframe\">\n",
       "  <thead>\n",
       "    <tr style=\"text-align: right;\">\n",
       "      <th></th>\n",
       "      <th>product_code</th>\n",
       "      <th>customer_code</th>\n",
       "      <th>market_code</th>\n",
       "      <th>order_date</th>\n",
       "      <th>sales_qty</th>\n",
       "      <th>sales_amount</th>\n",
       "      <th>cost_price</th>\n",
       "      <th>profit</th>\n",
       "      <th>profit_percentage</th>\n",
       "      <th>year</th>\n",
       "      <th>sales_qty_interval</th>\n",
       "    </tr>\n",
       "  </thead>\n",
       "  <tbody>\n",
       "    <tr>\n",
       "      <th>0</th>\n",
       "      <td>278</td>\n",
       "      <td>19</td>\n",
       "      <td>10</td>\n",
       "      <td>2017-10-11</td>\n",
       "      <td>1</td>\n",
       "      <td>1.275</td>\n",
       "      <td>0.77775</td>\n",
       "      <td>0.49725</td>\n",
       "      <td>39.0</td>\n",
       "      <td>2017</td>\n",
       "      <td>Low</td>\n",
       "    </tr>\n",
       "    <tr>\n",
       "      <th>1</th>\n",
       "      <td>278</td>\n",
       "      <td>19</td>\n",
       "      <td>10</td>\n",
       "      <td>2017-10-18</td>\n",
       "      <td>1</td>\n",
       "      <td>1.275</td>\n",
       "      <td>1.42800</td>\n",
       "      <td>-0.15300</td>\n",
       "      <td>-12.0</td>\n",
       "      <td>2017</td>\n",
       "      <td>Low</td>\n",
       "    </tr>\n",
       "    <tr>\n",
       "      <th>2</th>\n",
       "      <td>278</td>\n",
       "      <td>19</td>\n",
       "      <td>10</td>\n",
       "      <td>2017-10-19</td>\n",
       "      <td>1</td>\n",
       "      <td>1.275</td>\n",
       "      <td>0.90525</td>\n",
       "      <td>0.36975</td>\n",
       "      <td>29.0</td>\n",
       "      <td>2017</td>\n",
       "      <td>Low</td>\n",
       "    </tr>\n",
       "  </tbody>\n",
       "</table>\n",
       "</div>"
      ],
      "text/plain": [
       "   product_code  customer_code  market_code order_date  sales_qty  \\\n",
       "0           278             19           10 2017-10-11          1   \n",
       "1           278             19           10 2017-10-18          1   \n",
       "2           278             19           10 2017-10-19          1   \n",
       "\n",
       "   sales_amount  cost_price   profit  profit_percentage  year  \\\n",
       "0         1.275     0.77775  0.49725               39.0  2017   \n",
       "1         1.275     1.42800 -0.15300              -12.0  2017   \n",
       "2         1.275     0.90525  0.36975               29.0  2017   \n",
       "\n",
       "  sales_qty_interval  \n",
       "0                Low  \n",
       "1                Low  \n",
       "2                Low  "
      ]
     },
     "execution_count": 23,
     "metadata": {},
     "output_type": "execute_result"
    }
   ],
   "source": [
    "data.head(3)"
   ]
  },
  {
   "cell_type": "markdown",
   "id": "54bd51a2",
   "metadata": {},
   "source": [
    "### Now we are moving into Predictive analysis part\n",
    "* Since the purpose of this project was to analyze data to have better profits for the company, I used `profit` as my target variable(y)\n",
    "* The input features (X) for analysis were `product_code`, `customer_code`, `market_code`,`sales_qty`,`sales_amount`and `cost_price`"
   ]
  },
  {
   "cell_type": "markdown",
   "id": "6d27b14f",
   "metadata": {},
   "source": [
    "### 4.4 Linear Regression"
   ]
  },
  {
   "cell_type": "code",
   "execution_count": 24,
   "id": "5ad1d526",
   "metadata": {},
   "outputs": [
    {
     "name": "stdout",
     "output_type": "stream",
     "text": [
      "R^2 score: 1.0\n"
     ]
    }
   ],
   "source": [
    "X = data[['product_code', 'customer_code', 'market_code', 'cost_price','sales_amount','sales_qty','year']]\n",
    "y = data['profit']\n",
    "\n",
    "# Split the data into training and test sets\n",
    "X_train, X_test, y_train, y_test = train_test_split(X, y, test_size=0.2)\n",
    "\n",
    "# Create an instance of the linear regression model\n",
    "lr_model = LinearRegression()\n",
    "\n",
    "# Fit the model to the training data\n",
    "lr_model.fit(X_train, y_train)\n",
    "\n",
    "# Predict on the test data\n",
    "y_pred = lr_model.predict(X_test)\n",
    "\n",
    "# Evaluate the model performance using R^2 score\n",
    "score = lr_model.score(X_test, y_test)\n",
    "print(\"R^2 score:\", score)"
   ]
  },
  {
   "cell_type": "code",
   "execution_count": 26,
   "id": "bb08c042",
   "metadata": {},
   "outputs": [
    {
     "name": "stdout",
     "output_type": "stream",
     "text": [
      "Mean Squared Error (MSE): 2.8136272531885117e-24\n"
     ]
    }
   ],
   "source": [
    "mse = mean_squared_error(y_test, y_pred)\n",
    "print(\"Mean Squared Error (MSE):\", mse)"
   ]
  },
  {
   "cell_type": "markdown",
   "id": "38ea3bdc",
   "metadata": {},
   "source": [
    "**Analysis :** Getting an R2 score of 1 is ideal output, but it also mean that our model is overfitted. We can implement resampling techniques like Cross-validation and Bootstrapping to ensure the model is not overfitted"
   ]
  },
  {
   "cell_type": "markdown",
   "id": "4fd0598a",
   "metadata": {},
   "source": [
    "### 4.5 Resampling"
   ]
  },
  {
   "cell_type": "markdown",
   "id": "95617853",
   "metadata": {},
   "source": [
    "#### 4.5.i Cross-Validation"
   ]
  },
  {
   "cell_type": "code",
   "execution_count": 27,
   "id": "5628db4f",
   "metadata": {},
   "outputs": [
    {
     "name": "stdout",
     "output_type": "stream",
     "text": [
      "Cross-validation scores: [1. 1. 1. 1. 1.]\n",
      "Average R^2 score: 1.0\n"
     ]
    }
   ],
   "source": [
    "from sklearn.model_selection import cross_val_score\n",
    "\n",
    "# Create an instance of the linear regression model\n",
    "lr_model = LinearRegression()\n",
    "\n",
    "# Perform 5-fold cross-validation\n",
    "scores = cross_val_score(lr_model, X, y, cv=5)\n",
    "\n",
    "# Print out the R2 scores for each fold\n",
    "print(\"Cross-validation scores:\", scores)\n",
    "print(\"Average R^2 score:\", scores.mean())\n"
   ]
  },
  {
   "cell_type": "markdown",
   "id": "b7afc82b",
   "metadata": {},
   "source": [
    "* The result shows that the model accuracy remains same after using Cross-validation. We can use paramater tuning to improve this."
   ]
  },
  {
   "cell_type": "markdown",
   "id": "e87ef73c",
   "metadata": {},
   "source": [
    "### 4.6 Linear Model Selection and Regularization"
   ]
  },
  {
   "cell_type": "markdown",
   "id": "2418d3a1",
   "metadata": {},
   "source": [
    "#### Ridge regularization"
   ]
  },
  {
   "cell_type": "code",
   "execution_count": 28,
   "id": "c03a88c9",
   "metadata": {},
   "outputs": [
    {
     "name": "stdout",
     "output_type": "stream",
     "text": [
      "R^2 score: 1.0\n",
      "Best hyperparameters: {'alpha': 0.01}\n"
     ]
    }
   ],
   "source": [
    "from sklearn.linear_model import Ridge\n",
    "from sklearn.model_selection import GridSearchCV\n",
    "\n",
    "# Define the parameter grid for hyperparameter tuning\n",
    "param_grid = {'alpha': [0.01, 0.1, 1, 10, 100]}\n",
    "\n",
    "# Create an instance of the Ridge regression model\n",
    "ridge_model = Ridge()\n",
    "\n",
    "# Create an instance of the GridSearchCV object with 5-fold cross-validation\n",
    "grid_search = GridSearchCV(ridge_model, param_grid, cv=5)\n",
    "\n",
    "# Fit the GridSearchCV object to the training data\n",
    "grid_search.fit(X_train, y_train)\n",
    "\n",
    "# Predict on the test data using the best model found by GridSearchCV\n",
    "y_pred = grid_search.predict(X_test)\n",
    "\n",
    "# Evaluate the model performance using R^2 score\n",
    "score = grid_search.score(X_test, y_test)\n",
    "print(\"R^2 score:\", score)\n",
    "\n",
    "# Print the best hyperparameters found by GridSearchCV\n",
    "print(\"Best hyperparameters:\", grid_search.best_params_)\n"
   ]
  },
  {
   "cell_type": "markdown",
   "id": "56f7019a",
   "metadata": {},
   "source": [
    "#### Lasso regularization"
   ]
  },
  {
   "cell_type": "code",
   "execution_count": 29,
   "id": "03696e25",
   "metadata": {},
   "outputs": [
    {
     "name": "stdout",
     "output_type": "stream",
     "text": [
      "R^2 score: 0.9999996082953018\n",
      "Best hyperparameters: {'alpha': 1}\n"
     ]
    }
   ],
   "source": [
    "from sklearn.linear_model import Lasso\n",
    "from sklearn.model_selection import GridSearchCV\n",
    "\n",
    "# Define the parameter grid for hyperparameter tuning\n",
    "param_grid = {'alpha': [0.01, 0.1, 1, 10, 100]}\n",
    "\n",
    "# Create an instance of the Lasso regression model\n",
    "lasso_model = Lasso()\n",
    "\n",
    "# Create an instance of the GridSearchCV object with 5-fold cross-validation\n",
    "grid_search = GridSearchCV(lasso_model, param_grid, cv=5)\n",
    "\n",
    "# Fit the GridSearchCV object to the training data\n",
    "grid_search.fit(X_train, y_train)\n",
    "\n",
    "# Predict on the test data using the best model found by GridSearchCV\n",
    "y_pred = grid_search.predict(X_test)\n",
    "\n",
    "# Evaluate the model performance using R^2 score\n",
    "score = grid_search.score(X_test, y_test)\n",
    "print(\"R^2 score:\", score)\n",
    "\n",
    "# Print the best hyperparameters found by GridSearchCV\n",
    "print(\"Best hyperparameters:\", grid_search.best_params_)\n"
   ]
  },
  {
   "cell_type": "markdown",
   "id": "2e100e5e",
   "metadata": {},
   "source": [
    "### 4.7 Moving Beyond Linearity"
   ]
  },
  {
   "cell_type": "markdown",
   "id": "d06c28bc",
   "metadata": {},
   "source": [
    "### Polynomial regression"
   ]
  },
  {
   "cell_type": "code",
   "execution_count": 30,
   "id": "f1e6da24",
   "metadata": {},
   "outputs": [
    {
     "name": "stdout",
     "output_type": "stream",
     "text": [
      "R^2 score (polynomial regression): 1.0\n"
     ]
    }
   ],
   "source": [
    "### Using 2- degree polynomial\n",
    "\n",
    "from sklearn.preprocessing import PolynomialFeatures\n",
    "\n",
    "# Create polynomial features up to degree 2\n",
    "poly = PolynomialFeatures(degree=2, include_bias=False)\n",
    "X_poly_train = poly.fit_transform(X_train)\n",
    "X_poly_test = poly.transform(X_test)\n",
    "\n",
    "# Create an instance of the linear regression model\n",
    "lr_model_poly = LinearRegression()\n",
    "\n",
    "# Fit the model to the training data\n",
    "lr_model_poly.fit(X_poly_train, y_train)\n",
    "\n",
    "# Predict on the test data\n",
    "y_pred_poly = lr_model_poly.predict(X_poly_test)\n",
    "\n",
    "# Evaluate the model performance using R^2 score\n",
    "score_poly = lr_model_poly.score(X_poly_test, y_test)\n",
    "print(\"R^2 score (polynomial regression):\", score_poly)\n"
   ]
  },
  {
   "cell_type": "code",
   "execution_count": 31,
   "id": "2dd9a975",
   "metadata": {},
   "outputs": [
    {
     "name": "stdout",
     "output_type": "stream",
     "text": [
      "R^2 score (polynomial regression): 0.999999999999951\n"
     ]
    }
   ],
   "source": [
    "### Using 3- degree polynomial\n",
    "\n",
    "from sklearn.preprocessing import PolynomialFeatures\n",
    "\n",
    "# Create polynomial features up to degree 3\n",
    "poly = PolynomialFeatures(degree=3, include_bias=False)\n",
    "X_poly_train = poly.fit_transform(X_train)\n",
    "X_poly_test = poly.transform(X_test)\n",
    "\n",
    "# Create an instance of the linear regression model\n",
    "lr_model_poly = LinearRegression()\n",
    "\n",
    "# Fit the model to the training data\n",
    "lr_model_poly.fit(X_poly_train, y_train)\n",
    "\n",
    "# Predict on the test data\n",
    "y_pred_poly = lr_model_poly.predict(X_poly_test)\n",
    "\n",
    "# Evaluate the model performance using R^2 score\n",
    "score_poly = lr_model_poly.score(X_poly_test, y_test)\n",
    "print(\"R^2 score (polynomial regression):\", score_poly)\n",
    "\n"
   ]
  },
  {
   "cell_type": "markdown",
   "id": "45d60dc4",
   "metadata": {},
   "source": [
    "## Conclusion"
   ]
  },
  {
   "cell_type": "markdown",
   "id": "f1eafc18",
   "metadata": {},
   "source": [
    "Based on the analysis conducted in this project, several insights can be drawn about the sales and profits of the company:\n",
    "\n",
    "* Firstly, the company seems to have a positive growth trend in terms of sales over the years. This is supported by the increasing trend observed in the total sales amount. An increase in the profit can also be seen till year 2019, though there is a decrease in year 2020.\n",
    "\n",
    "* Secondly, the company has a varied customer base across different markets and customer segments. By analyzing the sales and profits across different markets and customer segments, the company can gain insights into its target markets and customer segments.\n",
    "\n",
    "* Thirdly, there seems to be a positive correlation between the sales quantity and year . Therefore, the company can focus on improving its sales strategies to increase sales, which in turn, can lead to increased profits.\n",
    "\n",
    "* Finally, using machine learning techniques, such as linear regression, the company can predict its profit amount based on various input features. This can aid in future decision-making and strategy planning.\n",
    "\n",
    "Overall, this project provides valuable insights for the company to improve its sales and profits and make data-driven decisions.\n"
   ]
  },
  {
   "cell_type": "markdown",
   "id": "8b99b007",
   "metadata": {},
   "source": [
    "## References"
   ]
  },
  {
   "cell_type": "markdown",
   "id": "f40a9ac4",
   "metadata": {},
   "source": [
    "* Rice, J. A. (2006). Mathematical statistics and data analysis. Cengage Learning.\n",
    "\n",
    "* James, G., Witten, D., Hastie, T., & Tibshirani, R. (2015). An Introduction to Statistical Learning with Applications in R, Edn. 6th.\n",
    "\n",
    "* Pawar, Aishwarya. (2022). Data Analysis Using Statistical Methods: Case Study of Categorizing the Species of Penguin.\n",
    "\n",
    "* https://github.com/notramm/Sales-Insight-Dashboard-using-Power-BI"
   ]
  }
 ],
 "metadata": {
  "kernelspec": {
   "display_name": "Python 3 (ipykernel)",
   "language": "python",
   "name": "python3"
  },
  "language_info": {
   "codemirror_mode": {
    "name": "ipython",
    "version": 3
   },
   "file_extension": ".py",
   "mimetype": "text/x-python",
   "name": "python",
   "nbconvert_exporter": "python",
   "pygments_lexer": "ipython3",
   "version": "3.9.12"
  }
 },
 "nbformat": 4,
 "nbformat_minor": 5
}
